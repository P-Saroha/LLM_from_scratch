{
  "nbformat": 4,
  "nbformat_minor": 0,
  "metadata": {
    "colab": {
      "provenance": []
    },
    "kernelspec": {
      "name": "python3",
      "display_name": "Python 3"
    },
    "language_info": {
      "name": "python"
    }
  },
  "cells": [
    {
      "cell_type": "code",
      "source": [
        "# with open(\"the-verdict.txt\", \"r\", encoding=\"utf-8\") as f:\n",
        "#     raw_text = f.read()\n",
        "\n",
        "# print(\"Total number of character:\", len(raw_text))\n",
        "# print(raw_text[:99])"
      ],
      "metadata": {
        "colab": {
          "base_uri": "https://localhost:8080/"
        },
        "id": "0A8uUPeq1dpG",
        "outputId": "b43f6f35-2a9e-4e3b-f24c-05951b1c8aa8"
      },
      "execution_count": 74,
      "outputs": [
        {
          "output_type": "stream",
          "name": "stdout",
          "text": [
            "Total number of character: 20479\n",
            "I HAD always thought Jack Gisburn rather a cheap genius--though a good fellow enough--so it was no \n"
          ]
        }
      ]
    },
    {
      "cell_type": "code",
      "source": [
        "!pip install PyPDF2"
      ],
      "metadata": {
        "colab": {
          "base_uri": "https://localhost:8080/"
        },
        "id": "uVRiMcrQXsFC",
        "outputId": "f591bed0-9fcd-4886-aaf6-386ccae01979"
      },
      "execution_count": 61,
      "outputs": [
        {
          "output_type": "stream",
          "name": "stdout",
          "text": [
            "Requirement already satisfied: PyPDF2 in /usr/local/lib/python3.11/dist-packages (3.0.1)\n"
          ]
        }
      ]
    },
    {
      "cell_type": "code",
      "execution_count": 62,
      "metadata": {
        "colab": {
          "base_uri": "https://localhost:8080/"
        },
        "id": "qryOBuHgWE-Y",
        "outputId": "b10b21f6-ef6a-44c3-be61-b1485cdff38c"
      },
      "outputs": [
        {
          "output_type": "stream",
          "name": "stdout",
          "text": [
            "Total pages: 179\n",
            "Text length: 195810\n",
            "First 200 characters:\n",
            "FIBER OPTICAL COMMUNICATIONS  \n",
            "(R17A0418)  \n",
            "    Lecture Notes  \n",
            "B.TECH  \n",
            "(III YEAR – I SEM) \n",
            "(2019 -20) \n",
            "      Prepared by:  \n",
            "          Mrs.Anitha Patibandla, Associate Professor  \n",
            "         Mr.M.Anant\n"
          ]
        }
      ],
      "source": [
        "import PyPDF2\n",
        "\n",
        "\n",
        "with open(\"/content/FIBER OPTICAL COMMUNICATIONS 5th sem.pdf\", 'rb') as f:\n",
        "    pdf_reader = PyPDF2.PdfReader(f)\n",
        "\n",
        "    # Get total number of pages\n",
        "    num_pages = len(pdf_reader.pages)\n",
        "    print(f\"Total pages: {num_pages}\")\n",
        "\n",
        "    # Extract text from all pages\n",
        "    full_text = \"\"\n",
        "    for page_num in range(num_pages):\n",
        "        page = pdf_reader.pages[page_num]\n",
        "        full_text += page.extract_text()\n",
        "\n",
        "    print(f\"Text length: {len(full_text)}\")\n",
        "    print(f\"First 200 characters:\\n{full_text[:200]}\")"
      ]
    },
    {
      "cell_type": "code",
      "source": [
        "from nltk.tokenize import word_tokenize\n",
        "import nltk\n",
        "from collections import Counter"
      ],
      "metadata": {
        "id": "AZiyh2hFXCPD"
      },
      "execution_count": 63,
      "outputs": []
    },
    {
      "cell_type": "code",
      "source": [
        "\n",
        "# Tokenization\n",
        "nltk.download('punkt')\n",
        "nltk.download('punkt_tab')"
      ],
      "metadata": {
        "colab": {
          "base_uri": "https://localhost:8080/"
        },
        "id": "ZsIFc0ApZe_R",
        "outputId": "22379065-1ad8-4c6c-9575-889dc25227cd"
      },
      "execution_count": 64,
      "outputs": [
        {
          "output_type": "stream",
          "name": "stderr",
          "text": [
            "[nltk_data] Downloading package punkt to /root/nltk_data...\n",
            "[nltk_data]   Package punkt is already up-to-date!\n",
            "[nltk_data] Downloading package punkt_tab to /root/nltk_data...\n",
            "[nltk_data]   Package punkt_tab is already up-to-date!\n"
          ]
        },
        {
          "output_type": "execute_result",
          "data": {
            "text/plain": [
              "True"
            ]
          },
          "metadata": {},
          "execution_count": 64
        }
      ]
    },
    {
      "cell_type": "code",
      "source": [
        "# tokenize\n",
        "tokens = word_tokenize(full_text.lower())"
      ],
      "metadata": {
        "id": "8UC5Tr7hZjng"
      },
      "execution_count": 65,
      "outputs": []
    },
    {
      "cell_type": "code",
      "source": [
        "print(len(tokens))"
      ],
      "metadata": {
        "colab": {
          "base_uri": "https://localhost:8080/"
        },
        "id": "aBMkUcazZw79",
        "outputId": "f53017cf-1186-4811-c217-e48440c3e481"
      },
      "execution_count": 66,
      "outputs": [
        {
          "output_type": "stream",
          "name": "stdout",
          "text": [
            "34562\n"
          ]
        }
      ]
    },
    {
      "cell_type": "code",
      "source": [
        "'''import string\n",
        "from collections import Counter\n",
        "from nltk.tokenize import word_tokenize\n",
        "\n",
        "# Clean tokens - remove punctuation and keep only alphabetic words\n",
        "clean_tokens = []\n",
        "for token in tokens:\n",
        "    if token.isalpha() and len(token) > 1:  # Keep words with 2+ letters\n",
        "        clean_tokens.append(token.lower())  # Make lowercase for consistency\n",
        "\n",
        "print(f\"Original tokens: {len(tokens)}\")\n",
        "print(f\"Clean tokens: {len(clean_tokens)}\")\n",
        "\n",
        "# Build vocab with clean tokens\n",
        "vocab = {'<unk>': 0}  # Start with unknown token\n",
        "for token in Counter(clean_tokens).keys():\n",
        "    if token not in vocab:\n",
        "        vocab[token] = len(vocab)\n",
        "\n",
        "print(f\"Vocabulary size: {len(vocab)}\")\n",
        "\n",
        "# Display vocabulary\n",
        "print(\"\\nVocabulary:\")\n",
        "print(vocab)'''"
      ],
      "metadata": {
        "colab": {
          "base_uri": "https://localhost:8080/",
          "height": 105
        },
        "id": "bREPDna1Z4Dv",
        "outputId": "4f5ed8b4-cdca-45f9-8528-6e52589fe26d"
      },
      "execution_count": 67,
      "outputs": [
        {
          "output_type": "execute_result",
          "data": {
            "text/plain": [
              "'import string\\nfrom collections import Counter\\nfrom nltk.tokenize import word_tokenize\\n\\n# Clean tokens - remove punctuation and keep only alphabetic words\\nclean_tokens = []\\nfor token in tokens:\\n    if token.isalpha() and len(token) > 1:  # Keep words with 2+ letters\\n        clean_tokens.append(token.lower())  # Make lowercase for consistency\\n\\nprint(f\"Original tokens: {len(tokens)}\")\\nprint(f\"Clean tokens: {len(clean_tokens)}\")\\n\\n# Build vocab with clean tokens\\nvocab = {\\'<unk>\\': 0}  # Start with unknown token\\nfor token in Counter(clean_tokens).keys():\\n    if token not in vocab:\\n        vocab[token] = len(vocab)\\n\\nprint(f\"Vocabulary size: {len(vocab)}\")\\n\\n# Display vocabulary \\nprint(\"\\nVocabulary:\")\\nprint(vocab)'"
            ],
            "application/vnd.google.colaboratory.intrinsic+json": {
              "type": "string"
            }
          },
          "metadata": {},
          "execution_count": 67
        }
      ]
    },
    {
      "cell_type": "code",
      "source": [
        "'''from collections import Counter\n",
        "import re\n",
        "\n",
        "# One-liner approach: keep only tokens that become valid words\n",
        "clean_tokens = []\n",
        "for token in tokens:\n",
        "    # Extract only letters, make lowercase\n",
        "    word = re.sub(r'[^a-zA-Z]', '', token).lower()\n",
        "\n",
        "    # Keep only if it's a real word (2+ letters)\n",
        "    if len(word) >= 2:\n",
        "        clean_tokens.append(word)\n",
        "\n",
        "print(f\"Original: {len(tokens)} → Clean: {len(clean_tokens)}\")\n",
        "print(f\"First 30: {clean_tokens[:30]}\")\n",
        "print(clean_tokens)\n",
        "# Build vocab\n",
        "vocab = {'': 0}\n",
        "for token in set(clean_tokens):  # Use set to avoid duplicates\n",
        "    vocab[token] = len(vocab)\n",
        "\n",
        "print(f\"Vocabulary size: {len(vocab)}\")'''"
      ],
      "metadata": {
        "colab": {
          "base_uri": "https://localhost:8080/",
          "height": 87
        },
        "id": "D3fr9azNahYS",
        "outputId": "d9ccc29b-3b87-416a-8f42-a38fc23b1a18"
      },
      "execution_count": 68,
      "outputs": [
        {
          "output_type": "execute_result",
          "data": {
            "text/plain": [
              "'from collections import Counter\\nimport re\\n\\n# One-liner approach: keep only tokens that become valid words\\nclean_tokens = []\\nfor token in tokens:\\n    # Extract only letters, make lowercase\\n    word = re.sub(r\\'[^a-zA-Z]\\', \\'\\', token).lower()\\n    \\n    # Keep only if it\\'s a real word (2+ letters)\\n    if len(word) >= 2:\\n        clean_tokens.append(word)\\n\\nprint(f\"Original: {len(tokens)} → Clean: {len(clean_tokens)}\")\\nprint(f\"First 30: {clean_tokens[:30]}\")\\nprint(clean_tokens)\\n# Build vocab\\nvocab = {\\'\\': 0}\\nfor token in set(clean_tokens):  # Use set to avoid duplicates\\n    vocab[token] = len(vocab)\\n\\nprint(f\"Vocabulary size: {len(vocab)}\")'"
            ],
            "application/vnd.google.colaboratory.intrinsic+json": {
              "type": "string"
            }
          },
          "metadata": {},
          "execution_count": 68
        }
      ]
    },
    {
      "cell_type": "code",
      "source": [
        "import string\n",
        "from collections import Counter\n",
        "from nltk.tokenize import word_tokenize\n",
        "\n",
        "# Clean tokens - keep words, sentence endings, commas, and contractions\n",
        "clean_tokens = []\n",
        "for token in tokens:\n",
        "    # Keep sentence endings\n",
        "    if token in '.!?':\n",
        "        clean_tokens.append(token)\n",
        "    # Keep commas\n",
        "    elif token == ',':\n",
        "        clean_tokens.append(token)\n",
        "    # Keep words with apostrophes (contractions)\n",
        "    elif \"'\" in token and any(c.isalpha() for c in token):\n",
        "        clean_tokens.append(token.lower())\n",
        "    # Keep regular alphabetic words (2+ letters)\n",
        "    elif token.isalpha() and len(token) > 1:\n",
        "        clean_tokens.append(token.lower())\n",
        "\n",
        "print(f\"Original tokens: {len(tokens)}\")\n",
        "print(f\"Clean tokens: {len(clean_tokens)}\")\n",
        "\n",
        "# Step 1: Vocabulary stored in vocab variable\n",
        "# Build vocab with clean tokens\n",
        "vocab = {'<unk>': 0, '<endof>':1}  # Start with unknown token\n",
        "for token in Counter(clean_tokens).keys():\n",
        "    if token not in vocab:\n",
        "        vocab[token] = len(vocab)\n",
        "\n",
        "print(f\"Vocabulary size: {len(vocab)}\")\n",
        "print(vocab)\n"
      ],
      "metadata": {
        "colab": {
          "base_uri": "https://localhost:8080/"
        },
        "id": "tkKKT6cwiW5x",
        "outputId": "2d4d2f0a-09c9-4226-ee68-b8640b515abc"
      },
      "execution_count": 69,
      "outputs": [
        {
          "output_type": "stream",
          "name": "stdout",
          "text": [
            "Original tokens: 34562\n",
            "Clean tokens: 29793\n",
            "Vocabulary size: 3506\n",
            "{'<unk>': 0, '<endof>': 1, 'fiber': 2, 'optical': 3, 'communications': 4, 'lecture': 5, 'notes': 6, 'iii': 7, 'year': 8, 'sem': 9, 'prepared': 10, 'by': 11, 'patibandla': 12, ',': 13, 'associate': 14, 'professor': 15, 'guptha': 16, 'assistant': 17, 'department': 18, 'of': 19, 'electronics': 20, 'and': 21, 'communication': 22, 'engineering': 23, 'malla': 24, 'reddy': 25, 'college': 26, 'technology': 27, 'autonomous': 28, 'institution': 29, 'ugc': 30, 'govt': 31, '.': 32, 'india': 33, 'recognized': 34, 'under': 35, 'act': 36, 'affiliated': 37, 'to': 38, 'jntuh': 39, 'hyderabad': 40, 'approved': 41, 'aicte': 42, 'nba': 43, 'naac': 44, 'grade': 45, 'certified': 46, 'maisammaguda': 47, 'dhulapally': 48, 'post': 49, 'via': 50, 'kompally': 51, 'secunderabad': 52, 'telangana': 53, 'state': 54, 'core': 55, 'elective': 56, 'ii': 57, 'course': 58, 'objectives': 59, 'realize': 60, 'the': 61, 'significance': 62, 'understand': 63, 'construction': 64, 'characteristics': 65, 'cable': 66, 'develop': 67, 'knowledge': 68, 'signal': 69, 'sources': 70, 'power': 71, 'launching': 72, 'identify': 73, 'operation': 74, 'various': 75, 'detectors': 76, 'design': 77, 'systems': 78, 'wdm': 79, 'unit': 80, 'overview': 81, 'introduction': 82, 'general': 83, 'system': 84, 'advantages': 85, 'wave': 86, 'guides': 87, 'ray': 88, 'theory': 89, 'transmission': 90, 'total': 91, 'internal': 92, 'reflection': 93, 'acceptance': 94, 'angle': 95, 'numerical': 96, 'aperture': 97, 'skew': 98, 'rays': 99, 'cylindrical': 100, 'fibers': 101, 'modes': 102, 'materials': 103, 'fabrication': 104, 'techniques': 105, 'optic': 106, 'cables': 107, 'classification': 108, 'single': 109, 'mode': 110, 'graded': 111, 'index': 112, 'distortion': 113, 'in': 114, 'attenuation': 115, 'absorption': 116, 'scattering': 117, 'bending': 118, 'losses': 119, 'cladding': 120, 'information': 121, 'capacity': 122, 'determination': 123, 'group': 124, 'delay': 125, 'typ': 126, 'es': 127, 'dispersion': 128, 'material': 129, 'polarization': 130, 'intermodal': 131, 'pulse': 132, 'broadening': 133, 'connectors': 134, 'connector': 135, 'types': 136, 'return': 137, 'loss': 138, 'splicing': 139, 'intrinsic': 140, 'extrinsic': 141, 'indirect': 142, 'band': 143, 'gaps': 144, 'structures': 145, 'surface': 146, 'emitting': 147, 'led': 148, 'efficiency': 149, 'source': 150, 'modulation': 151, 'laser': 152, 'diodes': 153, 'threshold': 154, 'conditions': 155, 'equations': 156, 'quantum': 157, 'resonant': 158, 'frequencies': 159, 'radiation': 160, 'patterns': 161, 'temperature': 162, 'effects': 163, 'iv': 164, 'receivers': 165, 'physical': 166, 'principles': 167, 'pin': 168, 'apd': 169, 'detector': 170, 'response': 171, 'time': 172, 'effect': 173, 'on': 174, 'avalanche': 175, 'gain': 176, 'comparison': 177, 'photo': 178, 'receiver': 179, 'fundamenta': 180, 'digital': 181, 'error': 182, 'configuration': 183, 'considerations': 184, 'component': 185, 'choice': 186, 'multiplexing': 187, 'point': 188, 'links': 189, 'link': 190, 'budget': 191, 'with': 192, 'examples': 193, 'rise': 194, 'dwdm': 195, 'components': 196, 'networks': 197, 'text': 198, 'books': 199, 'gerd': 200, 'keiser': 201, 'tata': 202, 'mc': 203, 'graw': 204, 'international': 205, 'edition': 206, 'john': 207, 'senior': 208, 'phi': 209, 'reference': 210, 'mynbaev': 211, 'gupta': 212, 'lowell': 213, 'scheiner': 214, 'pearson': 215, 'education': 216, 'book': 217, 'fibre': 218, 'its': 219, 'applications': 220, 'govind': 221, 'agarwal': 222, 'wiley': 223, 'ediition': 224, 'joseph': 225, 'palais': 226, 'outcomes': 227, 'at': 228, 'end': 229, 'student': 230, 'will': 231, 'be': 232, 'able': 233, 'analyze': 234, 'constructional': 235, 'parameters': 236, 'estimate': 237, 'due': 238, 'compare': 239, 'choose': 240, 'suitable': 241, 'one': 242, 'for': 243, 'different': 244, 'is': 245, 'method': 246, 'transmitting': 247, 'from': 248, 'place': 249, 'another': 250, 'sending': 251, 'pulses': 252, 'light': 253, 'through': 254, 'an': 255, 'forms': 256, 'electromagnetic': 257, 'carrier': 258, 'that': 259, 'modulated': 260, 'carry': 261, 'preferred': 262, 'over': 263, 'electrical': 264, 'cabling': 265, 'when': 266, 'high': 267, 'bandwidth': 268, 'long': 269, 'distance': 270, 'or': 271, 'immunity': 272, 'interference': 273, 'are': 274, 'required': 275, 'this': 276, 'type': 277, 'can': 278, 'transmit': 279, 'voice': 280, 'video': 281, 'telemetry': 282, 'local': 283, 'area': 284, 'computer': 285, 'across': 286, 'distances': 287, 'used': 288, 'many': 289, 'telecommunications': 290, 'companies': 291, 'telephone': 292, 'signals': 293, 'internet': 294, 'television': 295, 'researchers': 296, 'bell': 297, 'labs': 298, 'have': 299, 'reached': 300, 'speeds': 301, 'peta': 302, 'bit': 303, 'per': 304, 'second': 305, 'using': 306, 'process': 307, 'communicating': 308, 'involves': 309, 'following': 310, 'asic': 311, 'steps': 312, 'creating': 313, 'involving': 314, 'use': 315, 'transmitter': 316, 'usually': 317, 'relaying': 318, 'along': 319, 'ensuring': 320, 'does': 321, 'not': 322, 'become': 323, 'too': 324, 'distorted': 325, 'weak': 326, 'receiving': 327, 'converting': 328, 'it': 329, 'into': 330, 'historical': 331, 'development': 332, 'first': 333, 'developed': 334, 'revolutionized': 335, 'industry': 336, 'played': 337, 'major': 338, 'role': 339, 'advent': 340, 'age': 341, 'because': 342, 'largely': 343, 'replaced': 344, 'copper': 345, 'wire': 346, 'world': 347, 'alexander': 348, 'graham': 349, 'his': 350, 'charles': 351, 'sumner': 352, 'tainter': 353, 'created': 354, 'very': 355, 'early': 356, 'precursor': 357, 'photophone': 358, \"'s\": 359, 'newly': 360, 'established': 361, 'volta': 362, 'laboratory': 363, 'was': 364, 'hington': 365, 'considered': 366, 'most': 367, 'important': 368, 'invention': 369, 'device': 370, 'allowed': 371, 'sound': 372, 'beam': 373, 'ju': 374, 'ne': 375, 'conducted': 376, 'wireless': 377, 'between': 378, 'two': 379, 'buildings': 380, 'some': 381, 'meters': 382, 'apart': 383, 'atmospheric': 384, 'medium': 385, 'would': 386, 'prove': 387, 'practical': 388, 'until': 389, 'advances': 390, 'fib': 391, 'er': 392, 'technologies': 393, 'permitted': 394, 'secure': 395, 'transport': 396, 'came': 397, 'military': 398, 'decades': 399, 'later': 400, 'harold': 401, 'hopkins': 402, 'narinder': 403, 'singh': 404, 'kapany': 405, 'showed': 406, 'rolled': 407, 'glass': 408, 'transmitted': 409, 'initially': 410, 'traverse': 411, 'only': 412, 'straight': 413, 'nishizawa': 414, 'japanese': 415, 'scientist': 416, 'tohoku': 417, 'university': 418, 'proposed': 419, 'invented': 420, 'diode': 421, 'static': 422, 'induction': 423, 'transistor': 424, 'both': 425, 'which': 426, 'contributed': 427, 'kao': 428, 'george': 429, 'hockham': 430, 'stc': 431, 'laboratories': 432, 'stl': 433, 'existing': 434, 'compared': 435, 'coaxial': 436, 'were': 437, 'contaminants': 438, 'could': 439, 'potentially': 440, 'removed': 441, 'su': 442, 'ccessfully': 443, 'corning': 444, 'works': 445, 'low': 446, 'enough': 447, 'purposes': 448, 'about': 449, 'same': 450, 'gaas': 451, 'semiconductor': 452, 'lasers': 453, 'compact': 454, 'therefore': 455, 'optelecom': 456, 'co': 457, 'inventor': 458, 'gordon': 459, 'gould': 460, 'received': 461, 'contract': 462, 'apa': 463, 'army': 464, 'mi': 465, 'ssile': 466, 'command': 467, 'huntsville': 468, 'alabama': 469, 'ground': 470, 'spout': 471, 'out': 472, 'missile': 473, 'five': 474, 'kilometers': 475, 'after': 476, 'period': 477, 'research': 478, 'starting': 479, 'commercial': 480, 'ommunications': 481, 'operated': 482, 'wavelength': 483, 'around': 484, 'μm': 485, 'rate': 486, 'repeater': 487, 'spacing': 488, 'up': 489, 'km': 490, 'soon': 491, 'april': 492, 'sent': 493, 'live': 494, 'traffic': 495, 'optics': 496, 'throughput': 497, 'beach': 498, 'california': 499, 'october': 500, 'signed': 501, 'cselt': 502, 'pirelli': 503, 'aimed': 504, 'test': 505, 'urban': 506, 'environment': 507, 'september': 508, 'series': 509, 'named': 510, 'experimentally': 511, 'deployed': 512, 'lines': 513, 'turin': 514, 'big': 515, 'city': 516, 'speed': 517, 'generation': 518, 'devel': 519, 'oped': 520, 'ingaasp': 521, 'these': 522, 'limited': 523, 'multi': 524, 'revealed': 525, 'greatly': 526, 'improve': 527, 'performance': 528, 'however': 529, 'capable': 530, 'working': 531, 'proved': 532, 'difficult': 533, 'canadian': 534, 'service': 535, 'provider': 536, 'sasktel': 537, 'had': 538, 'complete': 539, 'what': 540, 'then': 541, 'longest': 542, 'network': 543, 'covered': 544, 'linked': 545, 'communities': 546, 'operating': 547, 'rates': 548, 'transatlantic': 549, 'based': 550, 'desurvire': 551, 'optimised': 552, 'amplification': 553, 'went': 554, 'third': 555, 'spurred': 556, 'discovery': 557, 'indium': 558, 'gallium': 559, 'arsenide': 560, 'photodiode': 561, 'pearsall': 562, 'engineers': 563, 'earlier': 564, 'difficulties': 565, 'spreading': 566, 'conventional': 567, 'scientists': 568, 'overcame': 569, 'difficulty': 570, 'designed': 571, 'minimal': 572, 'limiting': 573, 'spectrum': 574, 'longitudinal': 575, 'developments': 576, 'eventually': 577, 'operate': 578, 'commercially': 579, 'excess': 580, 'fourth': 581, 'reduce': 582, 'need': 583, 'repeaters': 584, 'increase': 585, 'data': 586, 'improvements': 587, 'caused': 588, 'revolution': 589, 'resulted': 590, 'doubling': 591, 'every': 592, 'six': 593, 'months': 594, 'line': 595, 'al': 596, 'amplifiers': 597, 'focus': 598, 'fifth': 599, 'extending': 600, 'range': 601, 'window': 602, 'known': 603, 'as': 604, 'covers': 605, 'dry': 606, 'has': 607, 'promising': 608, 'extension': 609, 'other': 610, 'include': 611, 'concept': 612, 'solutions': 613, 'preserve': 614, 'their': 615, 'shape': 616, 'counteracting': 617, 'nonlinear': 618, 'specific': 619, 'late': 620, 'promoters': 621, 'such': 622, 'kmi': 623, 'rhk': 624, 'predicted': 625, 'massive': 626, 'increases': 627, 'demand': 628, 'increased': 629, 'commercialization': 630, 'bandwid': 631, 'consumer': 632, 'services': 633, 'protocol': 634, 'traffi': 635, 'increasing': 636, 'exponentially': 637, 'faster': 638, 'than': 639, 'integrated': 640, 'circuit': 641, 'complexity': 642, 'moore': 643, 'law': 644, 'bust': 645, 'bubble': 646, 'main': 647, 'trend': 648, 'been': 649, 'consolidation': 650, 'firms': 651, 'offshoring': 652, 'manufacturing': 653, 'costs': 654, 'verizon': 655, 'taken': 656, 'advantage': 657, 'deliver': 658, 'variety': 659, 'broadband': 660, 'consumers': 661, 'homes': 662, 'transmis': 663, 'sion': 664, 'here': 665, 'extremely': 666, 'no': 667, 'ther': 668, 'offers': 669, 'volume': 670, 'far': 671, 'great': 672, 'longer': 673, 'providing': 674, 'enables': 675, 'resistance': 676, 'deployment': 677, 'inevitable': 678, 'meet': 679, 'environments': 680, 'like': 681, 'substations': 682, 'heating': 683, 'ventilating': 684, 'industrial': 685, 'exp': 686, 'result': 687, 'being': 688, 'so': 689, 'resis': 690, 'tant': 691, 'virtually': 692, 'noise': 693, 'free': 694, 'security': 695, 'risk': 696, 'growth': 697, 'market': 698, 'mainly': 699, 'driven': 700, 'awareness': 701, 'concerns': 702, 'alternative': 703, 'raw': 704, 'there': 705, 'way': 706, 'detect': 707, 'listening': 708, 'energy': 709, 'leaking': 710, 'ensures': 711, 'absolute': 712, 'secu': 713, 'rity': 714, 'small': 715, 'size': 716, 'diameter': 717, 'instance': 718, 'multimode': 719, 'smaller': 720, 'cop': 721, 'saves': 722, 'more': 723, 'space': 724, 'weight': 725, 'made': 726, 'plastic': 727, 'they': 728, 'thinner': 729, 'make': 730, 'them': 731, 'lighter': 732, 'easy': 733, 'install': 734, 'accommodate': 735, 'new': 736, 'equipment': 737, 'added': 738, 'infrastructure': 739, 'provide': 740, 'vastly': 741, 'expanded': 742, 'originally': 743, 'laid': 744, 'division': 745, 'tech': 746, 'nology': 747, 'including': 748, 'cwdm': 749, 'ability': 750, 'disadvantages': 751, 'though': 752, 'brings': 753, 'lots': 754, 'convenience': 755, 'also': 756, 'ignored': 757, 'fragility': 758, 'lends': 759, 'fragile': 760, 'wires': 761, 'addition': 762, 'affected': 763, 'chemicals': 764, 'hydrogen': 765, 'gas': 766, 'problem': 767, 'underwater': 768, 'making': 769, 'cares': 770, 'eployed': 771, 'splice': 772, 'if': 773, 'you': 774, 'bend': 775, 'much': 776, 'break': 777, 'highly': 778, 'susceptible': 779, 'becoming': 780, 'cut': 781, 'damaged': 782, 'during': 783, 'installation': 784, 'activities': 785, 'all': 786, 'se': 787, 'getting': 788, 'attenuated': 789, 'dispersed': 790, 'requires': 791, 'extra': 792, 'edfa': 793, 'cost': 794, 'higher': 795, 'despite': 796, 'fact': 797, 'dropping': 798, 'installing': 799, 'still': 800, 'relatively': 801, 'care': 802, 'moving': 803, 'loop': 804, 'fttx': 805, 'home': 806, 'premises': 807, 'etc': 808, 'pons': 809, 'passive': 810, 'enabling': 811, 'subscriber': 812, 'user': 813, 'access': 814, 'special': 815, 'often': 816, 'ensure': 817, 'quality': 818, 'needed': 819, 'example': 820, 'otdr': 821, 'reflectometry': 822, 'expensive': 823, 'specialized': 824, 'probes': 825, 'meter': 826, 'endpoints': 827, 'properly': 828, 'testing': 829, 'find': 830, 'uses': 831, 'wide': 832, 'industries': 833, 'medical': 834, 'imaging': 835, 'tools': 836, 'surgeries': 837, 'hydrophones': 838, 'seismic': 839, 'waves': 840, 'sonar': 841, 'wiring': 842, 'aircraft': 843, 'submarines': 844, 'vehicles': 845, 'field': 846, 'networking': 847, 'storage': 848, 'connect': 849, 'users': 850, 'servers': 851, 'settings': 852, 'help': 853, 'accuracy': 854, 'hard': 855, 'reach': 856, 'areas': 857, 'where': 858, 'emi': 859, 'issue': 860, 'sensory': 861, 'devices': 862, 'pressure': 863, 'measurements': 864, 'automobiles': 865, 'catv': 866, 'hdtv': 867, 'lighting': 868, 'sensors': 869, 'measure': 870, 'monitor': 871, 'vast': 872, 'array': 873, 'variables': 874, 'above': 875, 'mentioned': 876, 'follows': 877, 'sub': 878, 'ink': 879, 'cctv': 880, 'surveillance': 881, 'cameras': 882, 'connecting': 883, 'fire': 884, 'police': 885, 'emergency': 886, 'hospitals': 887, 'schools': 888, 'management': 889, 'heavy': 890, 'duty': 891, 'constructions': 892, 'block': 893, 'diagram': 894, 'fig': 895, 'message': 896, 'origin': 897, 'generally': 898, 'transducer': 899, 'converts': 900, 'non': 901, 'common': 902, 'microphones': 903, 'currents': 904, 'tv': 905, 'images': 906, 'current': 907, 'transfer': 908, 'computers': 909, 'already': 910, 'form': 911, 'modulator': 912, 'modul': 913, 'ator': 914, 'functions': 915, 'proper': 916, 'format': 917, 'impresses': 918, 'onto': 919, 'generated': 920, 'wo': 921, 'distinct': 922, 'categories': 923, 'analog': 924, 'generates': 925, 'called': 926, 'ld': 927, 'oscillators': 928, 'stable': 929, 'frequency': 930, 'sufficient': 931, 'propagation': 932, 'channel': 933, 'coupler': 934, 'feeds': 935, 'lens': 936, 'collimating': 937, 'li': 938, 'ght': 939, 'emitted': 940, 'directing': 941, 'towards': 942, 'must': 943, 'efficiently': 944, 'part': 945, 'possibili': 946, 'ty': 947, 'path': 948, 'desirable': 949, 'att': 950, 'enuation': 951, 'large': 952, 'cone': 953, 'boost': 954, 'levels': 955, 'convert': 956, 'we': 957, 'ak': 958, 'ones': 959, 'regenerate': 960, 'original': 961, 'trains': 962, 'further': 963, 'property': 964, 'travelling': 965, 'ropagating': 966, 'normally': 967, 'contains': 968, 'divides': 969, 'several': 970, 'paths': 971, 'results': 972, 'appears': 973, 'deforming': 974, 'adjacent': 975, 'begin': 976, 'overlap': 977, 'unrecognizable': 978, 'separate': 979, 'bits': 980, 'detected': 981, 'converted': 982, 'electric': 983, 'photodetector': 984, 'proportional': 985, 'incident': 986, 'output': 987, 'filtered': 988, 'remov': 989, 'constant': 990, 'bias': 991, 'amplified': 992, 'properties': 993, 'photodetectors': 994, 'economy': 995, 'life': 996, 'consumption': 997, 'sensitivity': 998, 'fast': 999, 'quick': 1000, 'variations': 1001, 'processin': 1002, 'includes': 1003, 'filtering': 1004, 'maximizes': 1005, 'ratio': 1006, 'unwanted': 1007, 'decision': 1008, 'additional': 1009, 'ber': 1010, 'should': 1011, 'processing': 1012, 'emerging': 1013, 'processor': 1014, 'transformed': 1015, 'visual': 1016, 'image': 1017, 'sometimes': 1018, 'directly': 1019, 'usable': 1020, 'machines': 1021, 'connected': 1022, 'iber': 1023, 'radio': 1024, 'alternate': 1025, 'polarity': 1026, 'measured': 1027, 'hertz': 1028, 'hz': 1029, 'approximately': 1030, 'travelled': 1031, 'each': 1032, 'cycle': 1033, 'convenient': 1034, 'instead': 1035, 'stated': 1036, 'microns': 1037, 'nanometers': 1038, 'micron': 1039, 'micrometre': 1040, 'nano': 1041, 'visible': 1042, 'infrared': 1043, 'fairly': 1044, 'wavelengths': 1045, 'short': 1046, 'waveguides': 1047, 'ravels': 1048, 'maximum': 1049, 'possible': 1050, 'travels': 1051, 'exhibits': 1052, 'certain': 1053, 'behavior': 1054, 'explained': 1055, 'laws': 1056, 'refraction': 1057, 'guide': 1058, 'structure': 1059, 'gui': 1060, 'des': 1061, 'constraining': 1062, 'travel': 1063, 'desired': 1064, 'transverse': 1065, 'dimensions': 1066, 'larger': 1067, 'guided': 1068, 'explain': 1069, 'how': 1070, 'waveguide': 1071, 'geometrical': 1072, 'traps': 1073, 'surrounding': 1074, 'guiding': 1075, 'region': 1076, 'ncladding': 1077, 'ncore': 1078, 'entering': 1079, 'trapped': 1080, 'sinθ': 1081, 'planar': 1082, 'rectangular': 1083, 'consists': 1084, 'three': 1085, 'concentric': 1086, 'elements': 1087, 'outer': 1088, 'coating': 1089, 'buffer': 1090, 'portion': 1091, 'surrounds': 1092, 'slightly': 1093, 'lower': 1094, 'difference': 1095, 'indices': 1096, 'causes': 1097, 'occur': 1098, 'boundary': 1099, 'length': 1100, 'down': 1101, 'escape': 1102, 'sides': 1103, 'ner': 1104, 'member': 1105, 'middle': 1106, 'layer': 1107, 'serves': 1108, 'confine': 1109, 'shock': 1110, 'absorber': 1111, 'protect': 1112, 'damage': 1113, 'comprises': 1114, 'coats': 1115, 'metallic': 1116, 'sheaths': 1117, 'protection': 1118, 'injected': 1119, 'th': 1120, 'striking': 1121, 'interface': 1122, 'greater': 1123, 'critical': 1124, 'reflected': 1125, 'back': 1126, 'since': 1127, 'angles': 1128, 'incidence': 1129, 'equal': 1130, 'continues': 1131, 'zigzag': 1132, 'fi': 1133, 'within': 1134, 'less': 1135, 'passes': 1136, 'lost': 1137, 'refractive': 1138, 'changes': 1139, 'abruptly': 1140, 'step': 1141, 'available': 1142, 'diameters': 1143, 'mm': 1144, 'well': 1145, 'suited': 1146, 'pplications': 1147, 'requiring': 1148, 'densities': 1149, 'delivering': 1150, 'trap': 1151, 'entrance': 1152, 'associated': 1153, 'propagating': 1154, 'velocities': 1155, 'begins': 1156, 'spread': 1157, 'enter': 1158, 'wel': 1159, 'separated': 1160, 'limits': 1161, 'decreases': 1162, 'radial': 1163, 'center': 1164, 'near': 1165, 'edge': 1166, 'curved': 1167, 'arly': 1168, 'times': 1169, 'reduces': 1170, 'allows': 1171, 'propagate': 1172, 'analyzed': 1173, 'typical': 1174, 'coupled': 1175, 'distribution': 1176, 'reveals': 1177, 'widely': 1178, 'diagnoses': 1179, 'treatment': 1180, 'bundled': 1181, 'flexible': 1182, 'strands': 1183, 'inserted': 1184, 'blood': 1185, 'vessels': 1186, 'lungs': 1187, 'parts': 1188, 'body': 1189, 'endoscope': 1190, 'tool': 1191, 'carrying': 1192, 'bundles': 1193, 'inside': 1194, 'tube': 1195, 'bundle': 1196, 'directs': 1197, 'tissue': 1198, 'tested': 1199, 'while': 1200, 'carries': 1201, 'producing': 1202, 'detailed': 1203, 'endoscopes': 1204, 'desi': 1205, 'gned': 1206, 'look': 1207, 'regions': 1208, 'human': 1209, 'knees': 1210, 'joints': 1211, 'approximation': 1212, 'axis': 1213, 'shortest': 1214, 'route': 1215, 'critic': 1216, 'determine': 1217, 'defined': 1218, 'those': 1219, 'solution': 1220, 'respective': 1221, 'dn': 1222, 'θc': 1223, 'deg': 1224, 'ns': 1225, 'phenomenon': 1226, 'splitting': 1227, 'white': 1228, 'constituents': 1229, 'concepts': 1230, 'geometric': 1231, 'represented': 1232, 'simple': 1233, 'homogeneous': 1234, 'may': 1235, 'absorbed': 1236, 'refl': 1237, 'ected': 1238, 'lies': 1239, 'plane': 1240, 'media': 1241, 'refracted': 1242, 'lie': 1243, 'snell': 1244, 'give': 1245, 'relationship': 1246, 'depends': 1247, 'essential': 1248, 'condition': 1249, 'glossy': 1250, 'surfaces': 1251, 'ra': 1252, 'normal': 1253, 'contact': 1254, 'produced': 1255, 'according': 1256, 'flat': 1257, 'mirror': 1258, 'upright': 1259, 'object': 1260, 'equally': 1261, 'distanced': 1262, 'real': 1263, 'parabolic': 1264, 'particular': 1265, 'any': 1266, 'given': 1267, 'vacuum': 1268, 'air': 1269, 'os': 1270, 'water': 1271, 'either': 1272, 'away': 1273, 'depending': 1274, 'always': 1275, 'put': 1276, 'words': 1277, 'move': 1278, 'consider': 1279, 'utilizing': 1280, 'model': 1281, 'necessary': 1282, 'take': 1283, 'account': 1284, 'dielectric': 1285, 'characterized': 1286, 'referred': 1287, 'he': 1288, 'velocity': 1289, 'bent': 1290, 'figure': 1291, 'ni': 1292, 'nr': 1293, 'typically': 1294, 'reflecte': 1295, 'without': 1296, 'described': 1297, 'slowly': 1298, 'optically': 1299, 'dense': 1300, 'gives': 1301, 'dielectrics': 1302, 'differing': 1303, 'occurs': 1304, 'illustrated': 1305, 'observed': 1306, 'approaching': 1307, 'side': 1308, 'related': 1309, 'refr': 1310, 'action': 1311, 'states': 1312, 'amount': 1313, 'originating': 1314, 'partial': 1315, 'thus': 1316, 'emerges': 1317, 'parallel': 1318, 'imiting': 1319, 'case': 1320, 'now': 1321, 'φc': 1322, 'shown': 1323, 'eq': 1324, 'value': 1325, 'reflec': 1326, 'ted': 1327, 'hence': 1328, 'inter': 1329, 'face': 1330, 'refrac': 1331, 'tive': 1332, 'exceeds': 1333, 'mechanism': 1334, 'sufficiently': 1335, 'shallow': 1336, 'illustrates': 1337, 'reflections': 1338, 'silica': 1339, 'meridional': 1340, 'passe': 1341, 'simplest': 1342, 'describe': 1343, 'illustrating': 1344, 'fundamental': 1345, 'noted': 1346, 'assumes': 1347, 'perfect': 1348, 'discontinuities': 1349, 'imperfections': 1350, 'probably': 1351, 'rather': 1352, 'subsequent': 1353, 'progressively': 1354, 'progressive': 1355, 'becomes': 1356, 'happens': 1357, 'denoted': 1358, 'minimum': 1359, 'strikes': 1360, 'shows': 1361, 'degree': 1362, 'cr': 1363, 'itical': 1364, 'sin': 1365, 'know': 1366, 'even': 1367, 'reflective': 1368, 'setting': 1369, 'resulting': 1370, 'basis': 1371, 'undergoes': 1372, 'crucial': 1373, 'dictate': 1374, 'whether': 1375, 'fol': 1376, 'principle': 1377, 'encounters': 1378, 'objective': 1379, 'latex': 1380, 'notice': 1381, 'orientation': 1382, 'input': 1383, 'turn': 1384, 'calculated': 1385, 'formula': 1386, 'below': 1387, 'characteristic': 1388, 'lenses': 1389, 'collect': 1390, 'blue': 1391, 'see': 1392, 'dependent': 1393, 'collected': 1394, 'na': 1395, 'equation': 1396, 'bound': 1397, 'helical': 1398, 'intersect': 1399, 'ay': 1400, 'passing': 1401, 'view': 1402, 'provides': 1403, 'angled': 1404, 'front': 1405, 'ays': 1406, 'follow': 1407, 'but': 1408, 'confined': 1409, 'tracked': 1410, 'easily': 1411, 'analyzing': 1412, 'purpose': 1413, 'lead': 1414, 'calculation': 1415, 'significant': 1416, 'tend': 1417, 'number': 1418, 'leaky': 1419, 'totally': 1420, 'ary': 1421, 'partially': 1422, 'nature': 1423, 'microwaves': 1424, 'phase': 1425, 'shifts': 1426, 'finite': 1427, 'discrete': 1428, 'produce': 1429, 'constructive': 1430, 'additive': 1431, 'reinforce': 1432, 'zero': 1433, 'ithout': 1434, 'sidewalls': 1435, 'actual': 1436, 'propagated': 1437, 'determined': 1438, 'exact': 1439, 'maxwell': 1440, 'algebra': 1441, 'yields': 1442, 'complex': 1443, 'although': 1444, 'presentation': 1445, 'mathematics': 1446, 'beyond': 1447, 'scope': 1448, 'useful': 1449, 'consi': 1450, 'der': 1451, 'modal': 1452, 'fields': 1453, 'section': 1454, 'te': 1455, 'ez': 1456, 'tm': 1457, 'obtained': 1458, 'cylinder': 1459, 'bounded': 1460, 'us': 1461, 'integers': 1462, 'order': 1463, 'specify': 1464, 'contrast': 1465, 'integer': 1466, 'refer': 1467, 'lm': 1468, 'correspond': 1469, 'traveling': 1470, 'hybrid': 1471, 'nonzero': 1472, 'designated': 1473, 'eh': 1474, 'upon': 1475, 'contribution': 1476, 'description': 1477, 'proves': 1478, 'somewhat': 1479, 'complicated': 1480, 'fortunately': 1481, 'analysis': 1482, 'simplified': 1483, 'con': 1484, 'sidering': 1485, 'com': 1486, 'munication': 1487, 'satisfy': 1488, 'weakly': 1489, 'relative': 1490, 'corresponds': 1491, 'grazing': 1492, 'sually': 1493, 'dominant': 1494, 'forward': 1495, 'approximate': 1496, 'full': 1497, 'set': 1498, 'linearly': 1499, 'polarized': 1500, 'lp': 1501, 'except': 1502, 'lowest': 1503, 'pairs': 1504, 'ave': 1505, 'almost': 1506, 'identical': 1507, 'constants': 1508, 'said': 1509, 'degenerate': 1510, 'superpositions': 1511, 'degenerating': 1512, 'regardless': 1513, 'figurations': 1514, 'linear': 1515, 'combination': 1516, 'produces': 1517, 'simplification': 1518, 'traditional': 1519, 'designations': 1520, 'table': 1521, 'subscripts': 1522, 'intensity': 1523, 'profile': 1524, 'maxima': 1525, 'circumference': 1526, 'radius': 1527, 'vector': 1528, 'furthermore': 1529, 'notation': 1530, 'labeling': 1531, 'changed': 1532, 'specified': 1533, 'previously': 1534, 'coupl': 1535, 'ing': 1536, 'aspects': 1537, 'perturbations': 1538, 'deviations': 1539, 'straightness': 1540, 'irregularities': 1541, 'change': 1542, 'coupling': 1543, 'perturbation': 1544, 'aids': 1545, 'unde': 1546, 'rstanding': 1547, 'cases': 1548, 'maintains': 1549, 'electrom': 1550, 'agnetic': 1551, 'corres': 1552, 'ponds': 1553, 'individual': 1554, 'do': 1555, 'throughout': 1556, 'transfers': 1557, 'exceptionally': 1558, 'good': 1559, 'strained': 1560, 'surroundings': 1561, 'conversion': 1562, 'mixing': 1563, 'illustrations': 1564, 'showing': 1565, 'irregularity': 1566, 'preceding': 1567, 'sections': 1568, 'makes': 1569, 'indicated': 1570, 'st': 1571, 'ep': 1572, 'allow': 1573, 'monomode': 1574, 'corresponding': 1575, 'axial': 1576, 'istinct': 1577, 'whereas': 1578, 'considerable': 1579, 'mod': 1580, 'restricts': 1581, 'attainable': 1582, 'especially': 1583, 'pared': 1584, 'hese': 1585, 'spatially': 1586, 'incoherent': 1587, 'apertures': 1588, 'facilitating': 1589, 'easier': 1590, 'opt': 1591, 'ical': 1592, 'tolerance': 1593, 'requirements': 1594, 'para': 1595, 'relati': 1596, 've': 1597, 'included': 1598, 'normalized': 1599, 'entirely': 1600, 'cease': 1601, 'cutoff': 1602, 'unguided': 1603, 'nevertheless': 1604, 'paramount': 1605, 'importance': 1606, 'ms': 1607, 'expression': 1608, 'decreasing': 1609, 'variation': 1610, 'parameter': 1611, 'expressin': 1612, 'representation': 1613, 'triangular': 1614, 'profiles': 1615, 'present': 1616, 'best': 1617, 'consequently': 1618, 'term': 1619, 'qualification': 1620, 'refers': 1621, 'hape': 1622, 'determines': 1623, 'reason': 1624, 'waveguiding': 1625, 'appear': 1626, 'gradual': 1627, 'decrease': 1628, 'creates': 1629, 'refractions': 1630, 'effectively': 1631, 'interfaces': 1632, 'gradually': 1633, 'ever': 1634, 'met': 1635, 'again': 1636, 'continuously': 1637, 'exhibit': 1638, 'les': 1639, 'excited': 1640, 'grading': 1641, 'considering': 1642, 'close': 1643, 'shorter': 1644, 'veloc': 1645, 'ity': 1646, 'extreme': 1647, 'compensates': 1648, 'lengths': 1649, 'similar': 1650, 'situation': 1651, 'exists': 1652, 'illus': 1653, 'trated': 1654, 'giving': 1655, 'transit': 1656, 'equalization': 1657, 'cores': 1658, 'trans': 1659, 'mission': 1660, 'bandwidths': 1661, 'orders': 1662, 'magnitude': 1663, 'attain': 1664, 'µm': 1665, 'applied': 1666, 'function': 1667, 'accept': 1668, 'relat': 1669, 'ive': 1670, 'differences': 1671, 'avoided': 1672, 'multimo': 1673, 'de': 1674, 'lend': 1675, 'themselves': 1676, 'maintaining': 1677, 'takes': 1678, 'mismatches': 1679, 'leakage': 1680, 'discussion': 1681, 'achieved': 1682, 'exist': 1683, 'limit': 1684, 'vc': 1685, 'orthogonal': 1686, 'applies': 1687, 'apparent': 1688, 'adjusted': 1689, 'reduction': 1690, 'theoretical': 1691, 'λc': 1692, 'effective': 1693, 'itu': 1694, 'containing': 1695, 'cm': 1696, 'definition': 1697, 'strongly': 1698, 'curvature': 1699, 'recommended': 1700, 'cutof': 1701, 'values': 1702, 'primary': 1703, 'coated': 1704, 'avoid': 1705, 'problems': 1706, 'moreover': 1707, 'enhance': 1708, 'confinement': 1709, 'distant': 1710, 'spot': 1711, 'prop': 1712, 'erties': 1713, 'extent': 1714, 'jointing': 1715, 'micro': 1716, 'width': 1717, 'pattern': 1718, 'mfd': 1719, 'arameter': 1720, 'characterizing': 1721, 'penetration': 1722, 'context': 1723, 'better': 1724, 'functional': 1725, 'dia': 1726, 'approximated': 1727, 'gaussian': 1728, 'opposite': 1729, 'amplitude': 1730, 'points': 1731, 'relation': 1732, 'mf': 1733, 'nominal': 1734, 'half': 1735, 'excitation': 1736, 'regarded': 1737, 'arbitrary': 1738, 'strictly': 1739, 'roposed': 1740, 'defining': 1741, 'dis': 1742, 'tributions': 1743, 'least': 1744, 'eight': 1745, 'definitions': 1746, 'propaga': 1747, 'ting': 1748, 'factor': 1749, 'propagates': 1750, 'cantherefore': 1751, 'average': 1752, 'norma': 1753, 'lly': 1754, 'clad': 1755, 'depressed': 1756, 'extends': 1757, 'approx': 1758, 'imately': 1759, 'physically': 1760, 'centrated': 1761, 'approximates': 1762, 'nlk': 1763, 'varies': 1764, 'interval': 1765, 'vary': 1766, 'neff': 1767, 'τg': 1768, 'inverse': 1769, 'υg': 1770, 'hen': 1771, 'ce': 1772, 'consisting': 1773, 'sio': 1774, 'oxides': 1775, 'oxide': 1776, 'whose': 1777, 'nm': 1778, 'get': 1779, 'dopants': 1780, 'geo': 1781, 'fluorine': 1782, 'few': 1783, 'compositions': 1784, 'sand': 1785, 'composed': 1786, 'pure': 1787, 'nitrous': 1788, 'fused': 1789, 'deformation': 1790, 'breakage': 1791, 'thermal': 1792, 'chemical': 1793, 'durability': 1794, 'transparency': 1795, 'basic': 1796, 'reproducibility': 1797, 'fabricated': 1798, 'invariable': 1799, 'conve': 1800, 'rt': 1801, 'degradation': 1802, 'joining': 1803, 'affect': 1804, 'terminated': 1805, 'toget': 1806, 'her': 1807, 'stage': 1808, 'perform': 1809, 'rod': 1810, 'mixture': 1811, 'selenides': 1812, 'sulfides': 1813, 'metal': 1814, 'classified': 1815, 'halide': 1816, 'active': 1817, 'chalgenide': 1818, 'decreased': 1819, 'adding': 1820, 'dopant': 1821, 'combinations': 1822, 'chlorine': 1823, 'bromine': 1824, 'iodine': 1825, 'fluoride': 1826, 'zrf': 1827, 'name': 1828, 'zblan': 1829, 'baf': 1830, 'laf': 1831, 'naf': 1832, 'percentages': 1833, 'molecular': 1834, 'percentage': 1835, 'add': 1836, 'replacing': 1837, 'haf': 1838, 'glasses': 1839, 'formed': 1840, 'erbium': 1841, 'neodymium': 1842, 'performs': 1843, 'discovered': 1844, 'element': 1845, 'cl': 1846, 'br': 1847, 'cd': 1848, 'ba': 1849, 'si': 1850, 'mostly': 1851, 'sed': 1852, 'insertion': 1853, 'polymethylmethacrylate': 1854, 'pmma': 1855, 'perflourmated': 1856, 'polymer': 1857, 'pfp': 1858, 'offer': 1859, 'sh': 1860, 'ort': 1861, 'tough': 1862, 'durable': 1863, 'presence': 1864, 'modulus': 1865, 'installed': 1866, 'routes': 1867, 'sacrificing': 1868, 'efficiencies': 1869, 'inexpensive': 1870, 'splices': 1871, 'transceivers': 1872, 'injection': 1873, 'customer': 1874, 'costly': 1875, 'affair': 1876, 'broader': 1877, 'broad': 1878, 'starts': 1879, 'overlapping': 1880, 'deca': 1881, 'strength': 1882, 'factors': 1883, 'structural': 1884, 'imperfection': 1885, 'nearly': 1886, 'rayleigh': 1887, 'microben': 1888, 'ding': 1889, 'contributes': 1890, 'silicon': 1891, 'compound': 1892, 'dioxide': 1893, 'rapidly': 1894, 'governed': 1895, 'chosen': 1896, 'units': 1897, 'leads': 1898, 'significantly': 1899, 'couples': 1900, 'let': 1901, 'compute': 1902, 'ans': 1903, 'µwatt': 1904, 'launched': 1905, 'µw': 1906, 'mean': 1907, 'overall': 1908, 'db': 1909, 'intervals': 1910, 'introducing': 1911, 'continuous': 1912, 'level': 1913, 'maintain': 1914, 'windows': 1915, 'dbm': 1916, 'calculate': 1917, 'attenuat': 1918, 'ion': 1919, 'mention': 1920, 'marks': 1921, 'mw': 1922, 'mwatt': 1923, 'watt': 1924, 'absorp': 1925, 'tion': 1926, 'composition': 1927, 'dissipation': 1928, 'hear': 1929, 'impurities': 1930, 'remain': 1931, 'residue': 1932, 'purification': 1933, 'concentration': 1934, 'mechanisms': 1935, 'atomic': 1936, 'defects': 1937, 'impurity': 1938, 'atoms': 1939, 'constituent': 1940, 'missing': 1941, 'molecules': 1942, 'density': 1943, 'clusters': 1944, 'atom': 1945, 'groups': 1946, 'negligible': 1947, 'exposed': 1948, 'ionizing': 1949, 'nuclear': 1950, 'reactor': 1951, 'therapies': 1952, 'missions': 1953, 'dames': 1954, 'damages': 1955, 'particles': 1956, 'absorbing': 1957, 'dose': 1958, 'receives': 1959, 'expressed': 1960, 'rad': 1961, 'measuring': 1962, 'bulk': 1963, 'electronic': 1964, 'transitions': 1965, 'charge': 1966, 'transition': 1967, 'ions': 1968, 'iron': 1969, 'chromium': 1970, 'cobalt': 1971, 'upto': 1972, 'reduced': 1973, 'refining': 1974, 'oh': 1975, 'hydroxil': 1976, 'dissolved': 1977, 'vibrations': 1978, 'peaks': 1979, 'overtones': 1980, 'respectively': 1981, 'absolutely': 1982, 'inhomogenities': 1983, 'sets': 1984, 'bands': 1985, 'uv': 1986, 'vibration': 1987, 'amorphous': 1988, 'photon': 1989, 'interacts': 1990, 'electron': 1991, 'valene': 1992, 'excites': 1993, 'decays': 1994, 'ir': 1995, 'inherent': 1996, 'interaction': 1997, 'vibrating': 1998, 'thereby': 1999, 'strong': 2000, 'bonds': 2001, 'ultraviolet': 2002, 'mole': 2003, 'fraction': 2004, 'αuv': 2005, 'derived': 2006, 'microscopic': 2007, 'randomly': 2008, 'cause': 2009, 'compositional': 2010, 'fluctuation': 2011, 'localized': 2012, 'slight': 2013, 'ingredients': 2014, 'random': 2015, 'impossible': 2016, 'eliminate': 2017, 'completely': 2018, 'cools': 2019, 'solidifies': 2020, 'zones': 2021, 'gets': 2022, 'scattered': 2023, 'directions': 2024, 'scatter': 2025, 'discontinuity': 2026, 'highest': 2027, 'suffers': 2028, 'graphically': 2029, 'wavelen': 2030, 'gth': 2031, 'kb': 2032, 'boltzmann': 2033, 'βt': 2034, 'isothermal': 2035, 'compressibility': 2036, 'tf': 2037, 'fluctuations': 2038, 'frozen': 2039, 'fictive': 2040, 'photoelastic': 2041, 'coefficient': 2042, 'square': 2043, 'concentrations': 2044, 'mie': 2045, 'arise': 2046, 'geometry': 2047, 'bubbles': 2048, 'manufacture': 2049, 'careful': 2050, 'control': 2051, 'ma': 2052, 'nufacturing': 2053, 'redu': 2054, 'ie': 2055, 'insignificant': 2056, 'radiative': 2057, 'whenever': 2058, 'subjected': 2059, 'bends': 2060, 'macroscopic': 2061, 'having': 2062, 'radii': 2063, 'abrupt': 2064, 'sharp': 2065, 'significan': 2066, 'possibility': 2067, 'mechanical': 2068, 'failure': 2069, 'itself': 2070, 'wrong': 2071, 'tightly': 2072, 'radiate': 2073, 'firstly': 2074, 'microbending': 2075, 'repetitive': 2076, 'scale': 2077, 'uniformities': 2078, 'uniform': 2079, 'lateral': 2080, 'pressures': 2081, 'minimized': 2082, 'placing': 2083, 'compressible': 2084, 'jacket': 2085, 'external': 2086, 'forces': 2087, 'deformed': 2088, 'stay': 2089, 'distortions': 2090, 'tensile': 2091, 'crush': 2092, 'periodic': 2093, 'troughs': 2094, 'spectral': 2095, 'curve': 2096, 'microbening': 2097, 'macrobending': 2098, 'observable': 2099, 'once': 2100, 'suddenly': 2101, 'evanescent': 2102, 'tail': 2103, 'moves': 2104, 'centre': 2105, 'keep': 2106, 'radiates': 2107, 'happen': 2108, 'microbends': 2109, 'straightened': 2110, 'exceeding': 2111, 'coefficients': 2112, 'fractional': 2113, 'powers': 2114, 'encounter': 2115, 'spreads': 2116, 'domain': 2117, 'studying': 2118, 'dete': 2119, 'rmination': 2120, 'neighbouring': 2121, 'distinguishable': 2122, 'specifie': 2123, 'product': 2124, 'mhz': 2125, 'independently': 2126, 'observe': 2127, 'direction': 2128, 'arrive': 2129, 'destination': 2130, 'affects': 2131, 'propa': 2132, 'gation': 2133, 'δτ': 2134, 'upper': 2135, 'sideband': 2136, 'picoseconds': 2137, 'nanometer': 2138, 'kilometer': 2139, 'chromatic': 2140, 'centered': 2141, 'derivative': 2142, 'negative': 2143, 'sign': 2144, 'arrives': 2145, 'before': 2146, 'σm': 2147, 'metre': 2148, 'drag': 2149, 'portions': 2150, 'fewer': 2151, 'han': 2152, 'hundreds': 2153, 'wg': 2154, 'arising': 2155, 'grou': 2156, 'independent': 2157, 'ese': 2158, 'primarily': 2159, 'concern': 2160, 'correct': 2161, 'graph': 2162, 'against': 2163, 'senses': 2164, 'optimum': 2165, 'cancel': 2166, 'fore': 2167, 'attractive': 2168, 'own': 2169, 'net': 2170, 'rately': 2171, 'eliminated': 2172, 'putting': 2173, 'dispersive': 2174, 'slope': 2175, 'plays': 2176, 'designing': 2177, 'induced': 2178, 'limitations': 2179, 'studied': 2180, 'governs': 2181, 'evolution': 2182, 'chirped': 2183, 'vω': 2184, 'relating': 2185, 'bl': 2186, 'σλ': 2187, 'pmd': 2188, 'acquires': 2189, 'circular': 2190, 'ommunication': 2191, 'compensated': 2192, 'gi': 2193, 'radially': 2194, 'supports': 2195, 'carefully': 2196, 'controlled': 2197, 'eliminating': 2198, 'σintermodal': 2199, 'personick': 2200, 'intramodal': 2201, 'solving': 2202, 'initial': 2203, 'efractive': 2204, 'ind': 2205, 'ex': 2206, 'additio': 2207, 'nal': 2208, 'improvement': 2209, 'dimensional': 2210, 'quantities': 2211, 'σc': 2212, 'absence': 2213, 'broading': 2214, 'optimization': 2215, 'features': 2216, 'absent': 2217, 'largest': 2218, 'bw': 2219, 'archiving': 2220, 'null': 2221, 'optimized': 2222, 'popularly': 2223, 'configurations': 2224, 'matched': 2225, 'dressed': 2226, 'innermost': 2227, 'outrcladding': 2228, 'shifted': 2229, 'shift': 2230, 'flattened': 2231, 'span': 2232, 'suit': 2233, 'resultant': 2234, 'calculations': 2235, 'dispersions': 2236, 'lσ': 2237, 'formulae': 2238, 'wa': 2239, 'velength': 2240, 'slop': 2241, 'marked': 2242, 'dotted': 2243, 'ers': 2244, 'terminates': 2245, 'quicker': 2246, 'connection': 2247, 'disco': 2248, 'nnection': 2249, 'mechanically': 2250, 'couple': 2251, 'align': 2252, 'pass': 2253, 'lose': 2254, 'little': 2255, 'misalignment': 2256, 'introduced': 2257, 'connects': 2258, 'disconnection': 2259, 'terminate': 2260, 'connections': 2261, 'join': 2262, 'key': 2263, 'differentiator': 2264, 'ends': 2265, 'smooth': 2266, 'positions': 2267, 'aligned': 2268, 'ar': 2269, 'spring': 2270, 'loaded': 2271, 'ferrule': 2272, 'stress': 2273, 'relief': 2274, 'boot': 2275, 'housing': 2276, 'hardened': 2277, 'stainless': 2278, 'steel': 2279, 'tungsten': 2280, 'carbide': 2281, 'alignment': 2282, 'mating': 2283, 'holds': 2284, 'male': 2285, 'categorized': 2286, 'simplex': 2287, 'duplex': 2288, 'multiple': 2289, 'onnectors': 2290, 'dissimilar': 2291, 'jack': 2292, 'plug': 2293, 'sleeve': 2294, 'biconic': 2295, 'escon': 2296, 'fc': 2297, 'fddi': 2298, 'lc': 2299, 'sc': 2300, 'precision': 2301, 'tapered': 2302, 'keyed': 2303, 'intermateability': 2304, 'commonly': 2305, 'wall': 2306, 'outlet': 2307, 'fixed': 2308, 'shroud': 2309, 'benefit': 2310, 'assemblies': 2311, 'private': 2312, 'public': 2313, 'smf': 2314, 'helmholtz': 2315, 'combining': 2316, 'define': 2317, 'distributed': 2318, 'means': 2319, 'oscillations': 2320, 'perpendicular': 2321, 'nobel': 2322, 'prize': 2323, 'physics': 2324, 'awarded': 2325, 'work': 2326, 'standar': 2327, 'defines': 2328, 'dispersio': 2329, 'spatial': 2330, 'narrower': 2331, 'citation': 2332, 'retaining': 2333, 'fidelity': 2334, 'reasons': 2335, 'cheaper': 2336, 'cross': 2337, 'patch': 2338, 'cord': 2339, 'fibersc': 2340, 'ope': 2341, 'round': 2342, 'circle': 2343, 'debris': 2344, 'streak': 2345, 'glows': 2346, 'illumination': 2347, 'chem': 2348, 'ically': 2349, 'altered': 2350, 'gigabits': 2351, 'transce': 2352, 'ivers': 2353, 'xenpak': 2354, 'thousands': 2355, 'hundred': 2356, 'bounds': 2357, 'ascertained': 2358, 'interest': 2359, 'cond': 2360, 'itions': 2361, 'imposed': 2362, 'permit': 2363, 'pair': 2364, 'orthogonally': 2365, 'usual': 2366, 'fiberscope': 2367, 'practice': 2368, 'polarizations': 2369, 'standard': 2370, 'capability': 2371, 'assembly': 2372, 'adapter': 2373, 'plugs': 2374, 'sophisticated': 2375, 'poli': 2376, 'shing': 2377, 'tuning': 2378, 'procedures': 2379, 'incorporated': 2380, 'assembled': 2381, 'supplier': 2382, 'facility': 2383, 'polishing': 2384, 'operations': 2385, 'involved': 2386, 'performe': 2387, 'jumpers': 2388, 'company': 2389, 'central': 2390, 'offices': 2391, 'installations': 2392, 'outside': 2393, 'plant': 2394, 'etween': 2395, 'office': 2396, 'remote': 2397, 'onus': 2398, 'dlc': 2399, 'patching': 2400, 'panel': 2401, 'architectural': 2402, 'flexibility': 2403, 'interconnect': 2404, 'belonging': 2405, 'providers': 2406, 'couplers': 2407, 'splitters': 2408, 'multiplexers': 2409, 'wdms': 2410, 'maintenance': 2411, 'involve': 2412, 'locating': 2413, 'underground': 2414, 'subsurface': 2415, 'enclosures': 2416, 'subject': 2417, 'flooding': 2418, 'outdoor': 2419, 'walls': 2420, 'utility': 2421, 'poles': 2422, 'closures': 2423, 'enclose': 2424, 'hermetic': 2425, 'prevent': 2426, 'swings': 2427, 'unless': 2428, 'breached': 2429, 'humidity': 2430, 'possibly': 2431, 'condensation': 2432, 'biological': 2433, 'airborne': 2434, 'bacteria': 2435, 'insects': 2436, 'groundwater': 2437, 'immersion': 2438, 'improperly': 2439, 'latest': 2440, 'telcordia': 2441, 'generic': 2442, 'singlemode': 2443, 'jumper': 2444, 'simultaneously': 2445, 'together': 2446, 'joined': 2447, 'last': 2448, 'confuse': 2449, 'branching': 2450, 'latter': 2451, 'joins': 2452, 'wherever': 2453, 'disconnects': 2454, 'cos': 2455, 'osp': 2456, 'creation': 2457, 'switch': 2458, 'application': 2459, 'delivered': 2460, 'pre': 2461, 'hours': 2462, 'pla': 2463, 'cing': 2464, 'savings': 2465, 'installer': 2466, 'rl': 2467, 'junction': 2468, 'decibel': 2469, 'decibels': 2470, 'pc': 2471, 'apc': 2472, 'fibres': 2473, 'days': 2474, 'abutting': 2475, 'endfaces': 2476, 'polished': 2477, 'standards': 2478, 'require': 2479, 'polis': 2480, 'hing': 2481, 'hrl': 2482, 'frequently': 2483, 'meaning': 2484, 'convex': 2485, 'touch': 2486, 'occurrence': 2487, 'technique': 2488, 'ferrules': 2489, 'sold': 2490, 'possess': 2491, 'il': 2492, 'versions': 2493, 'worldwide': 2494, 'particularly': 2495, 'fiberoptics': 2496, 'endface': 2497, 'toward': 2498, 'fresnel': 2499, 'simply': 2500, 'op': 2501, 'tic': 2502, 'orl': 2503, 'stop': 2504, 'correctly': 2505, 'measurement': 2506, 'coming': 2507, 'characterization': 2508, 'introduce': 2509, 'located': 2510, 'proximity': 2511, 'technical': 2512, 'terms': 2513, 'log': 2514, 'open': 2515, 'polish': 2516, 'bitrate': 2517, 'indication': 2518, 'potential': 2519, 'failu': 2520, 're': 2521, 'compromise': 2522, 'coverts': 2523, 'transmitters': 2524, 'ligh': 2525, 'needs': 2526, 'temperatures': 2527, 'years': 2528, 'modulate': 2529, 'modulating': 2530, 'coincide': 2531, 'narrow': 2532, 'requirement': 2533, 'compatible': 2534, 'modern': 2535, 'solid': 2536, 'varying': 2537, 'linearity': 2538, 'harmonics': 2539, 'intermodulation': 2540, 'reliability': 2541, 'leds': 2542, 'lase': 2543, 'lds': 2544, 'homojunction': 2545, 'sued': 2546, 'recombination': 2547, 'carriers': 2548, 'immediate': 2549, 'vicinity': 2550, 'realized': 2551, 'resolved': 2552, 'sandwiching': 2553, 'thin': 2554, 'layers': 2555, 'doped': 2556, 'bandgap': 2557, 'heterojunction': 2558, 'double': 2559, 'heterostructure': 2560, 'ystem': 2561, 'tens': 2562, 'watts': 2563, 'heterojuncitons': 2564, 'adjoining': 2565, 'crystal': 2566, 'semiconductors': 2567, 'heterojuctions': 2568, 'isotype': 2569, 'antisotype': 2570, 'heterojunctions': 2571, 'dh': 2572, 'achieve': 2573, 'efficient': 2574, 'heterojunciton': 2575, 'emitter': 2576, 'crosshatched': 2577, 'represent': 2578, 'gaasp': 2579, 'gap': 2580, 'energies': 2581, 'create': 2582, 'barrier': 2583, 'holes': 2584, 'electrons': 2585, 'charges': 2586, 'recombine': 2587, 'heter': 2588, 'ojunction': 2589, 'hole': 2590, 'arge': 2591, 'leading': 2592, 'refractiv': 2593, 'emission': 2594, 'em': 2595, 'itting': 2596, 'constrain': 2597, 'oriented': 2598, 'perpendicularly': 2599, 'dio': 2600, 'grown': 2601, 'substrate': 2602, 'top': 2603, 'etched': 2604, 'gold': 2605, 'heat': 2606, 'sink': 2607, 'flows': 2608, 'intense': 2609, 'thickness': 2610, 'isotropic': 2611, 'beamwidth': 2612, 'lambartian': 2613, 'uniformly': 2614, 'bright': 2615, 'projected': 2616, 'diminishes': 2617, 'bet': 2618, 'ween': 2619, 'viewing': 2620, 'peak': 2621, 'patter': 2622, 'decides': 2623, 'eleds': 2624, 'directional': 2625, 'eled': 2626, 'directed': 2627, 'concentrated': 2628, 'improved': 2629, 'diverges': 2630, 'divergence': 2631, 'maximize': 2632, 'reflector': 2633, 'placed': 2634, 'catastrophic': 2635, 'gradation': 2636, 'reliable': 2637, 'sensitive': 2638, 'usage': 2639, 'spontaneous': 2640, 'electro': 2641, 'luminescence': 2642, 'encourage': 2643, 'electroluminescence': 2644, 'select': 2645, 'appropriate': 2646, 'direct': 2647, 'tab': 2648, 'le': 2649, 'ev': 2650, 'sec': 2651, 'inas': 2652, 'insb': 2653, 'ge': 2654, 'momentum': 2655, 'quite': 2656, 'slow': 2657, 'ed': 2658, 'particle': 2659, 'conserve': 2660, 'compounds': 2661, 'ga': 2662, 'sb': 2663, 'tertiary': 2664, 'allos': 2665, 'alx': 2666, 'alxas': 2667, 'fwhm': 2668, 'joules': 2669, 'expressing': 2670, 'eg': 2671, 'volts': 2672, 'micrometers': 2673, 'alloys': 2674, 'uartenary': 2675, 'alloy': 2676, 'gax': 2677, 'asy': 2678, 'principal': 2679, 'comparing': 2680, 'quartenary': 2681, 'found': 2682, 'ηint': 2683, 'rr': 2684, 'rnr': 2685, 'quant': 2686, 'um': 2687, 'internally': 2688, 'photons': 2689, 'ven': 2690, 'minority': 2691, 'nsec': 2692, 'ptical': 2693, 'drive': 2694, 'currect': 2695, 'τr': 2696, 'τnr': 2697, 'amp': 2698, 'heterjunciton': 2699, 'efficienty': 2700, 'pint': 2701, 'ease': 2702, 'integration': 2703, 'vi': 2704, 'nanoseconds': 2705, 'megahertz': 2706, 'max': 2707, 'freq': 2708, 'coup': 2709, 'ild': 2710, 'amplifies': 2711, 'acronym': 2712, 'stimulated': 2713, 'formation': 2714, 'standing': 2715, 'cavity': 2716, 'resonator': 2717, 'monochromatic': 2718, 'coherent': 2719, 'absorb': 2720, 'packets': 2721, 'processes': 2722, 'di': 2723, 'agrams': 2724, 'ano': 2725, 'plank': 2726, 'returns': 2727, 'manner': 2728, 'causing': 2729, 'wit': 2730, 'emit': 2731, 'liberated': 2732, 'bounced': 2733, 'forth': 2734, 'reflecting': 2735, 'bouncing': 2736, 'build': 2737, 'brilliance': 2738, 'nd': 2739, 'rspon': 2740, 'rstim': 2741, 'ρem': 2742, 'rabs': 2743, 'equilibrium': 2744, 'statistics': 2745, 'upward': 2746, 'downward': 2747, 'black': 2748, 'einstein': 2749, 'fabry': 2750, 'perot': 2751, 'oscillator': 2752, 'selective': 2753, 'fe': 2754, 'edback': 2755, 'mirrors': 2756, 'interferometer': 2757, 'amplifying': 2758, 'lasing': 2759, 'sharply': 2760, 'feedback': 2761, 'dfb': 2762, 'laster': 2763, 'dimension': 2764, 'ej': 2765, 'radian': 2766, 'traverses': 2767, 'optica': 2768, 'αt': 2769, 'αend': 2770, 'parametricvalues': 2771, 'versus': 2772, 'plotted': 2773, 'ith': 2774, 'satisfied': 2775, 'jth': 2776, 'ηext': 2777, 'ηi': 2778, 'ranging': 2779, 'vλ': 2780, 'substituting': 2781, 'frequ': 2782, 'ency': 2783, 'successive': 2784, 'operates': 2785, 'inefficient': 2786, 'crosses': 2787, 'beings': 2788, 'pow': 2789, 'acts': 2790, 'narrowing': 2791, 'uncoupled': 2792, 'sho': 2793, 'ws': 2794, 'iodes': 2795, 'economic': 2796, 'production': 2797, 'precisely': 2798, 'periods': 2799, 'speckle': 2800, 'beams': 2801, 'subtract': 2802, 'phases': 2803, 'overload': 2804, 'unfavourable': 2805, 'necessitates': 2806, 'cooling': 2807, 'stabilization': 2808, 'board': 2809, 'grin': 2810, 'sl': 2811, 'moderate': 2812, 'pho': 2813, 'tons': 2814, 'respond': 2815, 'incoming': 2816, 'depletion': 2817, 'insert': 2818, 'undoped': 2819, 'lightly': 2820, 'enters': 2821, 'absorbs': 2822, 'photocarrier': 2823, 'photocarriers': 2824, 'influence': 2825, 'reverse': 2826, 'photocurrent': 2827, 'reliably': 2828, 'translates': 2829, 'responsivity': 2830, 'photodiodes': 2831, 'apds': 2832, 'exception': 2833, 'kinetic': 2834, 'collide': 2835, 'generating': 2836, 'behind': 2837, 'impact': 2838, 'ioniz': 2839, 'ation': 2840, 'ionization': 2841, 'breakdown': 2842, 'ordinary': 2843, 'voltage': 2844, 'rocess': 2845, 'multiplication': 2846, 'multiplic': 2847, 'provided': 2848, 'multiplied': 2849, 'un': 2850, 'tot': 2851, 'ipip': 2852, 'operational': 2853, 'employed': 2854, 'sr': 2855, 'nθ': 2856, 'responsively': 2857, 'comment': 2858, 'alteration': 2859, 'pn': 2860, 'exercised': 2861, 'rectifier': 2862, 'exciting': 2863, 'microwave': 2864, 'kind': 2865, 'heavily': 2866, 'ohmic': 2867, 'contacts': 2868, 'wider': 2869, 'indifference': 2870, 'inferior': 2871, 'switches': 2872, 'attenuators': 2873, 'namely': 2874, 'utilized': 2875, 'ode': 2876, 'opto': 2877, 'impulses': 2878, 'weakened': 2879, 'fr': 2880, 'om': 2881, 'strict': 2882, 'handle': 2883, 'insensitive': 2884, 'reasonable': 2885, 'lifetime': 2886, 'discussing': 2887, 'quickly': 2888, 'ingaas': 2889, 'ranges': 2890, 'semiconductorregions': 2891, 'vice': 2892, 'excite': 2893, 'valence': 2894, 'conducti': 2895, 'photogenerated': 2896, 'biased': 2897, 'flow': 2898, 'mobile': 2899, 'devic': 2900, 'swept': 2901, 'conduction': 2902, 'inversely': 2903, 'mate': 2904, 'rial': 2905, 'disappear': 2906, 'recombining': 2907, 'diffusion': 2908, 'dp': 2909, 'flux': 2910, 'penetrates': 2911, 'fal': 2912, 'ling': 2913, 'incremental': 2914, 'written': 2915, 'αs': 2916, 'taki': 2917, 'ng': 2918, 'reflectivity': 2919, 'consideration': 2920, 'rc': 2921, 'decisions': 2922, 'version': 2923, 'examine': 2924, 'hich': 2925, 'biasing': 2926, 'binary': 2927, 'stream': 2928, 'slot': 2929, 'duration': 2930, 'tb': 2931, 'electrically': 2932, 'ways': 2933, 'keying': 2934, 'ask': 2935, 'wherein': 2936, 'switched': 2937, 'valu': 2938, 'off': 2939, 'remains': 2940, 'reaching': 2941, 'compares': 2942, 'assumed': 2943, 'amplifier': 2944, 'ahead': 2945, 'photodetection': 2946, 'done': 2947, 'suppressed': 2948, 'heterodyne': 2949, 'preampli': 2950, 'fier': 2951, 'errors': 2952, 'disturbances': 2953, 'detection': 2954, 'amplify': 2955, 'blocks': 2956, 'liner': 2957, 'circuitry': 2958, 'recovery': 2959, 'processed': 2960, 'imp': 2961, 'ortant': 2962, 'criteria': 2963, 'probability': 2964, 'apply': 2965, 'questions': 2966, 'signa': 2967, 'ratios': 2968, 'constraints': 2969, 'decided': 2970, 'evaluate': 2971, 'evaluating': 2972, 'regenerators': 2973, 'compensation': 2974, 'nonlinearities': 2975, 'idp': 2976, 'code': 2977, 'am': 2978, 'fm': 2979, 'pcm': 2980, 'environmental': 2981, 'exposure': 2982, 'sunlight': 2983, 'flammability': 2984, 'impacts': 2985, 'logical': 2986, 'proceed': 2987, 'terminal': 2988, 'specifications': 2989, 'snr': 2990, 'acceptable': 2991, 'selecting': 2992, 'selection': 2993, 'enuations': 2994, 'next': 2995, 'fall': 2996, 'choosing': 2997, 'tolerable': 2998, 'fa': 2999, 'ctors': 3000, 'moisture': 3001, 'dust': 3002, 'disp': 3003, 'ersion': 3004, 'today': 3005, 'designer': 3006, 'regarding': 3007, 'gle': 3008, 'preferable': 3009, 'etero': 3010, 'photodiod': 3011, 'oss': 3012, 'verage': 3013, 'ph': 3014, 'unfamiliar': 3015, 'designers': 3016, 'differ': 3017, 'counterparts': 3018, 'carried': 3019, 'elect': 3020, 'rical': 3021, 'chief': 3022, 'distinction': 3023, 'engineer': 3024, 'trade': 3025, 'determining': 3026, 'choices': 3027, 'stability': 3028, 'impedance': 3029, 'supply': 3030, 'dynamic': 3031, 'dark': 3032, 'preamplifier': 3033, 'coding': 3034, 'pwm': 3035, 'ppm': 3036, 'biphase': 3037, 'scheme': 3038, 'ready': 3039, 'availability': 3040, 'uitable': 3041, 'comings': 3042, 'ideally': 3043, 'display': 3044, 'regular': 3045, 'regenerates': 3046, 'retransmitted': 3047, 'tdm': 3048, 'multip': 3049, 'channels': 3050, 'interleaved': 3051, 'sequentially': 3052, 'utilization': 3053, 'fdm': 3054, 'divided': 3055, 'gnal': 3056, 'assigned': 3057, 'combined': 3058, 'retrieved': 3059, 'separation': 3060, 'extraction': 3061, 'performed': 3062, 'filters': 3063, 'diffraction': 3064, 'prism': 3065, 'sdm': 3066, 'isolation': 3067, 'eliminates': 3068, 'huge': 3069, 'architecture': 3070, 'examining': 3071, 'listed': 3072, 'ass': 3073, 'ociated': 3074, 'compensate': 3075, 'regene': 3076, 'rator': 3077, 'detects': 3078, 'recovers': 3079, 'verting': 3080, 'peater': 3081, 'deciding': 3082, 'pl': 3083, 'aces': 3084, 'mand': 3085, 'opti': 3086, 'cal': 3087, 'technol': 3088, 'ogy': 3089, 'asis': 3090, 'increa': 3091, 'ses': 3092, 'creases': 3093, 'stance': 3094, 'epends': 3095, 'produ': 3096, 'ct': 3097, 'ransmission': 3098, 'mult': 3099, 'imode': 3100, 'reactive': 3101, 'sou': 3102, 'rces': 3103, 'diod': 3104, 'radiating': 3105, 'respon': 3106, 'sively': 3107, 'optiming': 3108, 'denotes': 3109, 'lsp': 3110, 'αf': 3111, 'pt': 3112, 'margin': 3113, 'considers': 3114, 'aging': 3115, 'estimating': 3116, 'pm': 3117, 'αfl': 3118, 'transmissio': 3119, 'selected': 3120, 'assuming': 3121, 'allowable': 3122, 'pmax': 3123, 'exam': 3124, 'ple': 3125, 'ps': 3126, 'lf': 3127, 'pout': 3128, 'pmin': 3129, 'min': 3130, 'adequately': 3131, 'pinfet': 3132, 'fet': 3133, 'limitation': 3134, 'root': 3135, 'contributor': 3136, 'adequate': 3137, 'assured': 3138, 'developing': 3139, 'inputs': 3140, 'instantaneously': 3141, 'ris': 3142, 'accounted': 3143, 'four': 3144, 'el': 3145, 'ements': 3146, 'ttx': 3147, 'gvd': 3148, 'tgvd': 3149, 'tmod': 3150, 'trx': 3151, 'bm': 3152, 'brx': 3153, 'recorded': 3154, 'tt': 3155, 'mat': 3156, 'tr': 3157, 'combing': 3158, 'powerful': 3159, 'aspect': 3160, 'wdw': 3161, 'dramatically': 3162, 'tiers': 3163, 'article': 3164, 'brief': 3165, 'rapid': 3166, 'telecommunication': 3167, 'farther': 3168, 'demands': 3169, 'managers': 3170, 'relying': 3171, 'methods': 3172, 'expanding': 3173, 'multiplex': 3174, 'metropolitan': 3175, 'incredibly': 3176, 'conduit': 3177, 'availa': 3178, 'ble': 3179, 'expansion': 3180, 'syste': 3181, 'running': 3182, 'sonet': 3183, 'oc': 3184, 'upgrading': 3185, 'changing': 3186, 'adds': 3187, 'thirdly': 3188, 'ore': 3189, 'support': 3190, 'share': 3191, 'colors': 3192, 'besides': 3193, 'als': 3194, 'draw': 3195, 'conclusion': 3196, 'actually': 3197, 'red': 3198, 'green': 3199, 'yellow': 3200, 'mix': 3201, 'asily': 3202, 'sun': 3203, 'equivalent': 3204, 'multiplexer': 3205, 'transmi': 3206, 'tter': 3207, 'joint': 3208, 'demultiplexer': 3209, 'split': 3210, 'right': 3211, 'demonstrated': 3212, 'expand': 3213, 'generations': 3214, 'overhaul': 3215, 'backbone': 3216, 'popular': 3217, 'vs': 3218, 'coarse': 3219, 'spacings': 3220, 'serve': 3221, 'ghz': 3222, 'lambdas': 3223, 'precise': 3224, 'architectures': 3225, 'utilize': 3226, 'cooled': 3227, 'drifting': 3228, 'drift': 3229, 'hand': 3230, 'drifts': 3231, 'emperature': 3232, 'stabilize': 3233, 'passband': 3234, 'fluctuates': 3235, 'unique': 3236, 'attributes': 3237, 'anywhere': 3238, 'extend': 3239, 'occupies': 3240, 'slice': 3241, 'upgrade': 3242, 'impose': 3243, 'subsequently': 3244, 'ly': 3245, 'spectrajemission': 3246, 'widths': 3247, 'spaced': 3248, 'wavelengt': 3249, 'trick': 3250, 'neighbor': 3251, 'spec': 3252, 'tral': 3253, 'extents': 3254, 'territory': 3255, 'occupied': 3256, 'gners': 3257, 'empty': 3258, 'guardband': 3259, 'safety': 3260, 'fidelities': 3261, 'messages': 3262, 'maintained': 3263, 'gions': 3264, 'seen': 3265, 'linewidth': 3266, 'tiny': 3267, 'depicts': 3268, 'relates': 3269, 'laamda': 3270, 'differentiating': 3271, 'hav': 3272, 'suppose': 3273, 'similarly': 3274, 'thz': 3275, 'beginning': 3276, 'prior': 3277, 'restricted': 3278, 'manufacturer': 3279, 'leeway': 3280, 'specifying': 3281, 'separations': 3282, 'implementations': 3283, 'relaxed': 3284, 'signif': 3285, 'icantly': 3286, 'implementation': 3287, 'combine': 3288, 'distribute': 3289, 'isolate': 3290, 'drop': 3291, 'attenuate': 3292, 'divide': 3293, 'tap': 3294, 'monitoring': 3295, 'electronically': 3296, 'tunable': 3297, 'configurable': 3298, 'equalizers': 3299, 'emits': 3300, 'mux': 3301, 'outputs': 3302, 'benefits': 3303, 'challenge': 3304, 'chan': 3305, 'nels': 3306, 'spurious': 3307, 'wavele': 3308, 'ngth': 3309, 'cutoffs': 3310, 'crosstalk': 3311, 'simplicity': 3312, 'word': 3313, 'separating': 3314, 'distinguish': 3315, 'interfering': 3316, 'station': 3317, 'photodetecti': 3318, 'gbps': 3319, 'asynchronous': 3320, 'synchronous': 3321, 'routing': 3322, 'switching': 3323, 'converters': 3324, 'implementing': 3325, 'domai': 3326, 'don': 3327, 'taps': 3328, 'star': 3329, 'rs': 3330, 'stat': 3331, 'person': 3332, 'port': 3333, 'multiplexed': 3334, 'consist': 3335, 'amplifer': 3336, 'systemuses': 3337, 'amplifers': 3338, 'haul': 3339, 'overcome': 3340, 'dwdw': 3341, 'ncrease': 3342, 'divi': 3343, 'ded': 3344, 'detail': 3345, 'spersion': 3346, 'compensators': 3347, 'metro': 3348, 'transponder': 3349, 'amounts': 3350, 'sites': 3351, 'san': 3352, 'ip': 3353, 'oeo': 3354, 'count': 3355, 'permissible': 3356, 'osnr': 3357, 'mitted': 3358, 'project': 3359, 'modules': 3360, 'dcm': 3361, 'introduces': 3362, 'client': 3363, 'transmits': 3364, 'termin': 3365, 'mid': 3366, 'contained': 3367, 'transponders': 3368, 'intermediate': 3369, \"'multi\": 3370, 'wh': 3371, 'ich': 3372, 'stages': 3373, 'site': 3374, 'traversed': 3375, 'diagnostics': 3376, 'extracted': 3377, 'localization': 3378, 'breaks': 3379, 'impairments': 3380, 'dropped': 3381, 'locally': 3382, 'separates': 3383, 'passively': 3384, 'receive': 3385, 'integrity': 3386, 'relayed': 3387, 'functionality': 3388, 'bi': 3389, 'supporting': 3390, 'correction': 3391, 'fec': 3392, 'wrapper': 3393, 'supervisory': 3394, 'osc': 3395, 'proprietary': 3396, 'condi': 3397, 'tions': 3398, 'software': 3399, 'upgrades': 3400, 'operator': 3401, 'analogue': 3402, 'dcc': 3403, 'uggest': 3404, 'vendors': 3405, 'opted': 3406, 'megabit': 3407, 'ethernet': 3408, 'unlike': 3409, 'intermediat': 3410, 'basically': 3411, 'exchange': 3412, 'quickest': 3413, 'question': 3414, 'rises': 3415, 'answer': 3416, 'relies': 3417, 'era': 3418, 'task': 3419, 'permits': 3420, 'stations': 3421, 'trunk': 3422, 'trunks': 3423, 'node': 3424, 'nothing': 3425, 'hub': 3426, 'nodes': 3427, 'dire': 3428, 'ctly': 3429, 'topology': 3430, 'router': 3431, 'topologies': 3432, 'discussed': 3433, 'previous': 3434, 'arrangement': 3435, 'tra': 3436, 'nsmission': 3437, 'bus': 3438, 'faulted': 3439, 'restore': 3440, 'ring': 3441, 'forming': 3442, 'closed': 3443, 'controls': 3444, 'mesh': 3445, 'conn': 3446, 'ection': 3447, 'others': 3448, 'diverted': 3449, 'failed': 3450, 'lan': 3451, 'interconnection': 3452, 'building': 3453, 'resources': 3454, 'personally': 3455, 'owned': 3456, 'organization': 3457, 'campus': 3458, 'category': 3459, 'thi': 3460, 'extended': 3461, 'government': 3462, 'man': 3463, 'cities': 3464, 'mmunication': 3465, 'organizations': 3466, 'wan': 3467, 'establish': 3468, 'geographical': 3469, 'controlle': 3470, 'advantageous': 3471, 'ndwidth': 3472, 'say': 3473, 'nowadays': 3474, 'stands': 3475, 'bellcore': 3476, 'streams': 3477, 'transfered': 3478, 'north': 3479, 'america': 3480, 'standardized': 3481, 'ansi': 3482, 'american': 3483, 'national': 3484, 'institute': 3485, 'sdh': 3486, 'synchronou': 3487, 'hierarchy': 3488, 'europe': 3489, 'japan': 3490, 'clock': 3491, 'prc': 3492, 'handles': 3493, 'timing': 3494, 'equipments': 3495, 'entire': 3496, 'sts': 3497, 'demultiplexing': 3498, 'regenerator': 3499, 'removing': 3500, 'connectio': 3501, 'responsible': 3502, 'movement': 3503, 'photonic': 3504, 'osi': 3505}\n"
          ]
        }
      ]
    },
    {
      "cell_type": "code",
      "source": [
        "# Step 2: Make a reverse dictionary that maps ID to token\n",
        "inverse_vocab = {}\n",
        "for token, idx in vocab.items():\n",
        "    inverse_vocab[idx] = token\n",
        "\n",
        "print(\"Inverse vocabulary created with\", len(inverse_vocab), \"entries\")\n",
        "\n",
        "\n",
        "# Step 3: Encode function - convert text to token IDs\n",
        "def encode(text):\n",
        "    \"\"\"Convert text to list of token IDs\"\"\"\n",
        "    # Tokenize the input text\n",
        "    tokens = word_tokenize(text)\n",
        "\n",
        "    # Convert tokens to IDs using same cleaning logic\n",
        "    token_ids = []\n",
        "    for token in tokens:\n",
        "        # Keep sentence endings\n",
        "        if token in '.!?':\n",
        "            token_ids.append(vocab.get(token, vocab['<unk>']))\n",
        "        # Keep commas\n",
        "        elif token == ',':\n",
        "            token_ids.append(vocab.get(token, vocab['<unk>']))\n",
        "        # Keep words with apostrophes (contractions)\n",
        "        elif \"'\" in token and any(c.isalpha() for c in token):\n",
        "            token_ids.append(vocab.get(token.lower(), vocab['<unk>']))\n",
        "        # Keep regular alphabetic words (2+ letters)\n",
        "        elif token.isalpha() and len(token) > 1:\n",
        "            token_ids.append(vocab.get(token.lower(), vocab['<unk>']))\n",
        "        # Skip other tokens (they become nothing, not <unk>)\n",
        "\n",
        "    return token_ids\n",
        "\n"
      ],
      "metadata": {
        "colab": {
          "base_uri": "https://localhost:8080/"
        },
        "id": "AFwbiFGCk7Jz",
        "outputId": "e814e065-54db-4911-82c6-b83d8ca1fa9c"
      },
      "execution_count": 70,
      "outputs": [
        {
          "output_type": "stream",
          "name": "stdout",
          "text": [
            "Inverse vocabulary created with 3506 entries\n"
          ]
        }
      ]
    },
    {
      "cell_type": "code",
      "source": [
        "# Step 4: Decode function - convert token IDs back to text\n",
        "def decode(token_ids):\n",
        "    \"\"\"Convert list of token IDs back to text\"\"\"\n",
        "    # Convert IDs back to tokens\n",
        "    tokens = []\n",
        "    for token_id in token_ids:\n",
        "        if token_id in inverse_vocab:\n",
        "            tokens.append(inverse_vocab[token_id])\n",
        "        else:\n",
        "            tokens.append('<unk>')\n",
        "\n",
        "    # Join tokens with spaces\n",
        "    text = ' '.join(tokens)\n",
        "\n",
        "    # Step 5: Fix punctuation spacing - remove spaces before punctuation\n",
        "    text = text.replace(' .', '.')\n",
        "    text = text.replace(' !', '!')\n",
        "    text = text.replace(' ?', '?')\n",
        "    text = text.replace(' ,', ',')\n",
        "\n",
        "    return text\n"
      ],
      "metadata": {
        "id": "O3VkAFU-rseh"
      },
      "execution_count": 71,
      "outputs": []
    },
    {
      "cell_type": "code",
      "source": [
        "\n",
        "# Test the functions\n",
        "print(\"\\n=== Testing Encode/Decode ===\")\n",
        "\n",
        "# Test 1\n",
        "test_text1 = \"Hello, how are you? I'm fine!\"\n",
        "print(f\"Original: '{test_text1}'\")\n",
        "encoded1 = encode(test_text1)\n",
        "print(f\"Encoded: {encoded1}\")\n",
        "decoded1 = decode(encoded1)\n",
        "print(f\"Decoded: '{decoded1}'\")\n",
        "\n",
        "# Test 2\n",
        "test_text2 = \"hello how r u ?, Reflection depends on the type of surface on which light is incident\"\n",
        "print(f\"\\nOriginal: '{test_text2}'\")\n",
        "encoded2 = encode(test_text2)\n",
        "print(f\"Encoded: {encoded2}\")\n",
        "decoded2 = decode(encoded2)\n",
        "print(f\"Decoded: '{decoded2}'\")\n",
        "\n",
        "# Show what each number means\n",
        "print(f\"\\nBreakdown for '{test_text2}':\")\n",
        "for i, token_id in enumerate(encoded2):\n",
        "    token = inverse_vocab.get(token_id, '<unk>')\n",
        "    print(f\"  {token_id} -> '{token}'\")"
      ],
      "metadata": {
        "colab": {
          "base_uri": "https://localhost:8080/"
        },
        "id": "qCcC6Ix6svS6",
        "outputId": "78eb1e7a-fbf2-44fe-c05a-bce0e4f804ca"
      },
      "execution_count": 73,
      "outputs": [
        {
          "output_type": "stream",
          "name": "stdout",
          "text": [
            "\n",
            "=== Testing Encode/Decode ===\n",
            "Original: 'Hello, how are you? I'm fine!'\n",
            "Encoded: [0, 13, 1070, 274, 774, 0, 0, 0, 0]\n",
            "Decoded: '<unk>, how are you <unk> <unk> <unk> <unk>'\n",
            "\n",
            "Original: 'hello how r u ?, Reflection depends on the type of surface on which light is incident'\n",
            "Encoded: [0, 1070, 0, 13, 93, 1247, 174, 61, 277, 19, 146, 174, 426, 253, 245, 986]\n",
            "Decoded: '<unk> how <unk>, reflection depends on the type of surface on which light is incident'\n",
            "\n",
            "Breakdown for 'hello how r u ?, Reflection depends on the type of surface on which light is incident':\n",
            "  0 -> '<unk>'\n",
            "  1070 -> 'how'\n",
            "  0 -> '<unk>'\n",
            "  13 -> ','\n",
            "  93 -> 'reflection'\n",
            "  1247 -> 'depends'\n",
            "  174 -> 'on'\n",
            "  61 -> 'the'\n",
            "  277 -> 'type'\n",
            "  19 -> 'of'\n",
            "  146 -> 'surface'\n",
            "  174 -> 'on'\n",
            "  426 -> 'which'\n",
            "  253 -> 'light'\n",
            "  245 -> 'is'\n",
            "  986 -> 'incident'\n"
          ]
        }
      ]
    },
    {
      "cell_type": "code",
      "source": [],
      "metadata": {
        "id": "XL88MTBv4W5e"
      },
      "execution_count": null,
      "outputs": []
    }
  ]
}